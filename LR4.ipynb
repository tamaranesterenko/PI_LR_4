{
 "cells": [
  {
   "cell_type": "markdown",
   "id": "7b25ef86",
   "metadata": {},
   "source": [
    "# Интегралы"
   ]
  },
  {
   "cell_type": "code",
   "execution_count": 4,
   "id": "6f05a8f0",
   "metadata": {},
   "outputs": [],
   "source": [
    "# !/usr/bin/env python3\n",
    "# -*- cosing: utf-8 -*-\n",
    "\n",
    "from sympy import *"
   ]
  },
  {
   "cell_type": "code",
   "execution_count": 6,
   "id": "d16a5841",
   "metadata": {},
   "outputs": [
    {
     "name": "stdout",
     "output_type": "stream",
     "text": [
      "-dx/(x**2*(1 + x**(-2)))\n"
     ]
    }
   ],
   "source": [
    "x = symbols('x')\n",
    "dx = symbols('dx')\n",
    "a = diff(atan(1/x), x)\n",
    "print(dx*a)"
   ]
  },
  {
   "cell_type": "code",
   "execution_count": 10,
   "id": "8c987834",
   "metadata": {},
   "outputs": [
    {
     "name": "stdout",
     "output_type": "stream",
     "text": [
      "dx*sin(x)*cos(x)/sqrt(sin(x)**2 + 1)\n"
     ]
    }
   ],
   "source": [
    "y = symbols('y')\n",
    "xx = diff(sqrt(1 + (sin(x))**2), x)\n",
    "y = print(xx*dx)"
   ]
  },
  {
   "cell_type": "code",
   "execution_count": 9,
   "id": "5eef32d9",
   "metadata": {},
   "outputs": [
    {
     "name": "stdout",
     "output_type": "stream",
     "text": [
      "x**6\n"
     ]
    }
   ],
   "source": [
    "y = integrate(6*x**5, x)\n",
    "print(y)"
   ]
  },
  {
   "cell_type": "code",
   "execution_count": 12,
   "id": "2bd88edb",
   "metadata": {},
   "outputs": [
    {
     "name": "stdout",
     "output_type": "stream",
     "text": [
      "x - 2*log(x + 2)\n"
     ]
    }
   ],
   "source": [
    "y = integrate(x/(x + 2), x)\n",
    "print(y)"
   ]
  },
  {
   "cell_type": "code",
   "execution_count": 13,
   "id": "282aa766",
   "metadata": {},
   "outputs": [
    {
     "data": {
      "text/latex": [
       "$\\displaystyle \\frac{x}{2 x^{2} + 2} + \\frac{\\operatorname{atan}{\\left(x \\right)}}{2}$"
      ],
      "text/plain": [
       "x/(2*x**2 + 2) + atan(x)/2"
      ]
     },
     "execution_count": 13,
     "metadata": {},
     "output_type": "execute_result"
    }
   ],
   "source": [
    "integrate(1 / (x**2 + 1)**2)"
   ]
  },
  {
   "cell_type": "code",
   "execution_count": 14,
   "id": "8b37405b",
   "metadata": {},
   "outputs": [
    {
     "data": {
      "text/latex": [
       "$\\displaystyle \\frac{\\left(2 x - 1\\right) e^{2 x}}{4}$"
      ],
      "text/plain": [
       "(2*x - 1)*exp(2*x)/4"
      ]
     },
     "execution_count": 14,
     "metadata": {},
     "output_type": "execute_result"
    }
   ],
   "source": [
    "integrate(x*exp(2*x), x)"
   ]
  },
  {
   "cell_type": "code",
   "execution_count": 16,
   "id": "170c7454",
   "metadata": {},
   "outputs": [
    {
     "data": {
      "text/latex": [
       "$\\displaystyle \\begin{cases} 2 \\sqrt{x + 4} - 4 \\operatorname{acoth}{\\left(\\frac{\\sqrt{x + 4}}{2} \\right)} & \\text{for}\\: \\left|{x + 4}\\right| > 4 \\\\2 \\sqrt{x + 4} - 4 \\operatorname{atanh}{\\left(\\frac{\\sqrt{x + 4}}{2} \\right)} & \\text{otherwise} \\end{cases}$"
      ],
      "text/plain": [
       "Piecewise((2*sqrt(x + 4) - 4*acoth(sqrt(x + 4)/2), Abs(x + 4) > 4), (2*sqrt(x + 4) - 4*atanh(sqrt(x + 4)/2), True))"
      ]
     },
     "execution_count": 16,
     "metadata": {},
     "output_type": "execute_result"
    }
   ],
   "source": [
    "integrate(sqrt(x + 4) / x)"
   ]
  },
  {
   "cell_type": "code",
   "execution_count": 17,
   "id": "512bd35f",
   "metadata": {},
   "outputs": [
    {
     "data": {
      "text/latex": [
       "$\\displaystyle 4096$"
      ],
      "text/plain": [
       "4096"
      ]
     },
     "execution_count": 17,
     "metadata": {},
     "output_type": "execute_result"
    }
   ],
   "source": [
    "integrate(6*x**5, (x, 0, 4))"
   ]
  },
  {
   "cell_type": "code",
   "execution_count": 18,
   "id": "b5e7fe23",
   "metadata": {},
   "outputs": [
    {
     "data": {
      "text/latex": [
       "$\\displaystyle - 2 \\log{\\left(5 \\right)} + 2 + 2 \\log{\\left(3 \\right)}$"
      ],
      "text/plain": [
       "-2*log(5) + 2 + 2*log(3)"
      ]
     },
     "execution_count": 18,
     "metadata": {},
     "output_type": "execute_result"
    }
   ],
   "source": [
    "integrate(x / (x+2), (x, 1, 3))"
   ]
  },
  {
   "cell_type": "code",
   "execution_count": 19,
   "id": "84829074",
   "metadata": {},
   "outputs": [
    {
     "data": {
      "text/latex": [
       "$\\displaystyle \\frac{1}{2} + \\frac{\\pi}{4}$"
      ],
      "text/plain": [
       "1/2 + pi/4"
      ]
     },
     "execution_count": 19,
     "metadata": {},
     "output_type": "execute_result"
    }
   ],
   "source": [
    "integrate(1 / (x**2 + 1)**2, (x, -1, 1))"
   ]
  },
  {
   "cell_type": "code",
   "execution_count": 20,
   "id": "c53faa63",
   "metadata": {},
   "outputs": [
    {
     "data": {
      "text/latex": [
       "$\\displaystyle \\frac{1}{4} + \\frac{199 e^{200}}{4}$"
      ],
      "text/plain": [
       "1/4 + 199*exp(200)/4"
      ]
     },
     "execution_count": 20,
     "metadata": {},
     "output_type": "execute_result"
    }
   ],
   "source": [
    "integrate(x*exp(2*x), (x, 0, 100))"
   ]
  },
  {
   "cell_type": "code",
   "execution_count": 21,
   "id": "91e390a1",
   "metadata": {},
   "outputs": [
    {
     "data": {
      "text/latex": [
       "$\\displaystyle \\frac{16}{3} - 2 \\sqrt{3}$"
      ],
      "text/plain": [
       "16/3 - 2*sqrt(3)"
      ]
     },
     "execution_count": 21,
     "metadata": {},
     "output_type": "execute_result"
    }
   ],
   "source": [
    "integrate(sqrt(x + 4), (x, -1, 0))"
   ]
  },
  {
   "cell_type": "code",
   "execution_count": 22,
   "id": "e87c61e9",
   "metadata": {},
   "outputs": [
    {
     "data": {
      "text/latex": [
       "$\\displaystyle \\frac{1}{3}$"
      ],
      "text/plain": [
       "1/3"
      ]
     },
     "execution_count": 22,
     "metadata": {},
     "output_type": "execute_result"
    }
   ],
   "source": [
    "integrate(x**(-4), (x, 1, oo))"
   ]
  },
  {
   "cell_type": "code",
   "execution_count": 23,
   "id": "a43da48c",
   "metadata": {},
   "outputs": [
    {
     "data": {
      "text/latex": [
       "$\\displaystyle \\frac{e^{2}}{2}$"
      ],
      "text/plain": [
       "exp(2)/2"
      ]
     },
     "execution_count": 23,
     "metadata": {},
     "output_type": "execute_result"
    }
   ],
   "source": [
    "integrate(exp(-2*x), (x, -1, oo))"
   ]
  },
  {
   "cell_type": "code",
   "execution_count": 24,
   "id": "8fc1d3c3",
   "metadata": {},
   "outputs": [
    {
     "data": {
      "text/latex": [
       "$\\displaystyle -1$"
      ],
      "text/plain": [
       "-1"
      ]
     },
     "execution_count": 24,
     "metadata": {},
     "output_type": "execute_result"
    }
   ],
   "source": [
    "integrate(log(x), (x, 0, 1))"
   ]
  },
  {
   "cell_type": "code",
   "execution_count": 25,
   "id": "f4411a48",
   "metadata": {},
   "outputs": [
    {
     "data": {
      "text/latex": [
       "$\\displaystyle 9.24328473429286$"
      ],
      "text/plain": [
       "9.24328473429286"
      ]
     },
     "execution_count": 25,
     "metadata": {},
     "output_type": "execute_result"
    }
   ],
   "source": [
    "integrate(1 / x**(6/7), (x, 0, 7))"
   ]
  },
  {
   "cell_type": "code",
   "execution_count": 28,
   "id": "d593f8a6",
   "metadata": {},
   "outputs": [
    {
     "data": {
      "text/latex": [
       "$\\displaystyle - \\frac{9}{20}$"
      ],
      "text/plain": [
       "-9/20"
      ]
     },
     "execution_count": 28,
     "metadata": {},
     "output_type": "execute_result"
    }
   ],
   "source": [
    "integrate(-x**4/3 + x**3 - 4*x/3, (x, -1, 2))"
   ]
  },
  {
   "cell_type": "markdown",
   "id": "a37e2f2d",
   "metadata": {},
   "source": [
    "# Применения интегралов"
   ]
  },
  {
   "cell_type": "code",
   "execution_count": 29,
   "id": "45dcb4f6",
   "metadata": {},
   "outputs": [
    {
     "data": {
      "text/latex": [
       "$\\displaystyle \\frac{1}{6}$"
      ],
      "text/plain": [
       "1/6"
      ]
     },
     "execution_count": 29,
     "metadata": {},
     "output_type": "execute_result"
    }
   ],
   "source": [
    "integrate(-x**2 + 7*x - 6 - 2*x, (x, 2, 3))"
   ]
  },
  {
   "cell_type": "code",
   "execution_count": 30,
   "id": "016ac82b",
   "metadata": {},
   "outputs": [
    {
     "data": {
      "text/latex": [
       "$\\displaystyle \\frac{9}{2}$"
      ],
      "text/plain": [
       "9/2"
      ]
     },
     "execution_count": 30,
     "metadata": {},
     "output_type": "execute_result"
    }
   ],
   "source": [
    "integrate(-x**2 + 5*x - 10 + 2*x, (x, 2, 5))"
   ]
  },
  {
   "cell_type": "code",
   "execution_count": 31,
   "id": "a4edbb71",
   "metadata": {},
   "outputs": [
    {
     "data": {
      "text/latex": [
       "$\\displaystyle \\frac{1}{6}$"
      ],
      "text/plain": [
       "1/6"
      ]
     },
     "execution_count": 31,
     "metadata": {},
     "output_type": "execute_result"
    }
   ],
   "source": [
    "integrate(-x**2 + 3*x - 6 + 2*x, (x, 2, 3))"
   ]
  },
  {
   "cell_type": "code",
   "execution_count": 32,
   "id": "0680ffdf",
   "metadata": {},
   "outputs": [
    {
     "data": {
      "text/latex": [
       "$\\displaystyle \\frac{1456 \\pi}{15}$"
      ],
      "text/plain": [
       "1456*pi/15"
      ]
     },
     "execution_count": 32,
     "metadata": {},
     "output_type": "execute_result"
    }
   ],
   "source": [
    "pi * integrate((x**2 - x)**2, (x, 2, 4))"
   ]
  },
  {
   "cell_type": "code",
   "execution_count": 33,
   "id": "c2e3a7b5",
   "metadata": {},
   "outputs": [
    {
     "data": {
      "text/latex": [
       "$\\displaystyle \\frac{928 \\pi}{3}$"
      ],
      "text/plain": [
       "928*pi/3"
      ]
     },
     "execution_count": 33,
     "metadata": {},
     "output_type": "execute_result"
    }
   ],
   "source": [
    "pi * integrate(((sqrt(3 - x))**2 - (-x - 53)**2), (x, -61, -53))"
   ]
  },
  {
   "cell_type": "code",
   "execution_count": 34,
   "id": "6197f142",
   "metadata": {},
   "outputs": [
    {
     "data": {
      "text/latex": [
       "$\\displaystyle - \\frac{\\sqrt{5}}{2} - \\frac{\\operatorname{asinh}{\\left(2 \\right)}}{4} + \\frac{\\operatorname{asinh}{\\left(4 \\right)}}{4} + \\sqrt{17}$"
      ],
      "text/plain": [
       "-sqrt(5)/2 - asinh(2)/4 + asinh(4)/4 + sqrt(17)"
      ]
     },
     "execution_count": 34,
     "metadata": {},
     "output_type": "execute_result"
    }
   ],
   "source": [
    "integrate(sqrt(1+diff(x**2)**2), (x, 1, 2))"
   ]
  },
  {
   "cell_type": "code",
   "execution_count": 35,
   "id": "34399a89",
   "metadata": {},
   "outputs": [
    {
     "data": {
      "text/latex": [
       "$\\displaystyle 1.43970987337155$"
      ],
      "text/plain": [
       "1.43970987337155"
      ]
     },
     "execution_count": 35,
     "metadata": {},
     "output_type": "execute_result"
    }
   ],
   "source": [
    "integrate(sqrt(1 + diff(pow(x, 3/2))**2), (x, 0, 1))"
   ]
  },
  {
   "cell_type": "markdown",
   "id": "795357d9",
   "metadata": {},
   "source": [
    "# Экономические задачи"
   ]
  },
  {
   "cell_type": "code",
   "execution_count": 36,
   "id": "34efc736",
   "metadata": {},
   "outputs": [
    {
     "data": {
      "text/latex": [
       "$\\displaystyle \\frac{6 x^{7}}{7} - 230 x$"
      ],
      "text/plain": [
       "6*x**7/7 - 230*x"
      ]
     },
     "execution_count": 36,
     "metadata": {},
     "output_type": "execute_result"
    }
   ],
   "source": [
    "integrate(6*x**6 - 230, x)"
   ]
  },
  {
   "cell_type": "code",
   "execution_count": 37,
   "id": "169e8fc1",
   "metadata": {},
   "outputs": [
    {
     "data": {
      "text/latex": [
       "$\\displaystyle 3 x^{6} + 4 x^{5} + \\frac{17 x^{4}}{4}$"
      ],
      "text/plain": [
       "3*x**6 + 4*x**5 + 17*x**4/4"
      ]
     },
     "execution_count": 37,
     "metadata": {},
     "output_type": "execute_result"
    }
   ],
   "source": [
    "integrate(18*x**5 + 20*x**4 + 17*x**3, x)"
   ]
  },
  {
   "cell_type": "code",
   "execution_count": 38,
   "id": "bd2249ea",
   "metadata": {},
   "outputs": [
    {
     "data": {
      "text/latex": [
       "$\\displaystyle 0.128205128205128 e^{7.8 x}$"
      ],
      "text/plain": [
       "0.128205128205128*exp(7.8*x)"
      ]
     },
     "execution_count": 38,
     "metadata": {},
     "output_type": "execute_result"
    }
   ],
   "source": [
    "integrate(exp(7.8*x), x)"
   ]
  },
  {
   "cell_type": "code",
   "execution_count": 39,
   "id": "585f8888",
   "metadata": {},
   "outputs": [
    {
     "data": {
      "text/latex": [
       "$\\displaystyle 192$"
      ],
      "text/plain": [
       "192"
      ]
     },
     "execution_count": 39,
     "metadata": {},
     "output_type": "execute_result"
    }
   ],
   "source": [
    "integrate(8 + 4*sin(pi / 4*(x + 7)), (x, 0, 24))"
   ]
  },
  {
   "cell_type": "code",
   "execution_count": 40,
   "id": "611e5854",
   "metadata": {},
   "outputs": [
    {
     "data": {
      "text/latex": [
       "$\\displaystyle - \\frac{1}{4} + \\frac{13 e^{12}}{4}$"
      ],
      "text/plain": [
       "-1/4 + 13*exp(12)/4"
      ]
     },
     "execution_count": 40,
     "metadata": {},
     "output_type": "execute_result"
    }
   ],
   "source": [
    "integrate((1 + x) * exp(2*x), (x, 0, 6))"
   ]
  },
  {
   "cell_type": "markdown",
   "id": "0ba773e0",
   "metadata": {},
   "source": [
    "# Индивидуальное задание, вариант 10"
   ]
  },
  {
   "cell_type": "markdown",
   "id": "70cef124",
   "metadata": {},
   "source": [
    "Задание №1. Найти интеграл sin(x)**2 * cos(x)dx"
   ]
  },
  {
   "cell_type": "code",
   "execution_count": 47,
   "id": "492bdfd9",
   "metadata": {},
   "outputs": [
    {
     "name": "stdout",
     "output_type": "stream",
     "text": [
      "sin(x)**3/3\n"
     ]
    }
   ],
   "source": [
    "#!/usr/bin/env python\n",
    "# -*- coding:utf-8 -*-\n",
    "\n",
    "from sympy import *\n",
    "x = symbols('x')\n",
    "y = integrate(sin(x)**2 * cos(x), x)\n",
    "print(y)"
   ]
  },
  {
   "cell_type": "markdown",
   "id": "b7e4bdb5",
   "metadata": {},
   "source": [
    "Задание №2. Определить запас товаров в магазине, образуемый за три дня, если поступление товаров характеризуется функцией f(t) = 4*t^5 + 2*t^5 + 5."
   ]
  },
  {
   "cell_type": "code",
   "execution_count": 58,
   "id": "2ac52ff7",
   "metadata": {},
   "outputs": [
    {
     "name": "stdout",
     "output_type": "stream",
     "text": [
      "Запас товара в магазине равен:  744\n"
     ]
    }
   ],
   "source": [
    "#!/usr/bin/env python\n",
    "# -*- coding:utf-8 -*-\n",
    "\n",
    "from sympy import *\n",
    "t = symbols('t')\n",
    "y = integrate(4*t**5 + 2*t**5 + 5, (t, 0, 3))\n",
    "print('Запас товара в магазине равен: ', y)"
   ]
  }
 ],
 "metadata": {
  "kernelspec": {
   "display_name": "Python 3 (ipykernel)",
   "language": "python",
   "name": "python3"
  },
  "language_info": {
   "codemirror_mode": {
    "name": "ipython",
    "version": 3
   },
   "file_extension": ".py",
   "mimetype": "text/x-python",
   "name": "python",
   "nbconvert_exporter": "python",
   "pygments_lexer": "ipython3",
   "version": "3.10.9"
  }
 },
 "nbformat": 4,
 "nbformat_minor": 5
}
